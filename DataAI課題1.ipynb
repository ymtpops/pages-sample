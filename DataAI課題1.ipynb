{
  "nbformat": 4,
  "nbformat_minor": 0,
  "metadata": {
    "colab": {
      "provenance": [],
      "collapsed_sections": [],
      "authorship_tag": "ABX9TyNgIDSg8RWG9FDffEaL4AQ/",
      "include_colab_link": true
    },
    "kernelspec": {
      "name": "python3",
      "display_name": "Python 3"
    },
    "language_info": {
      "name": "python"
    }
  },
  "cells": [
    {
      "cell_type": "markdown",
      "metadata": {
        "id": "view-in-github",
        "colab_type": "text"
      },
      "source": [
        "<a href=\"https://colab.research.google.com/github/ymtpops/pages-sample/blob/main/DataAI%E8%AA%B2%E9%A1%8C1.ipynb\" target=\"_parent\"><img src=\"https://colab.research.google.com/assets/colab-badge.svg\" alt=\"Open In Colab\"/></a>"
      ]
    },
    {
      "cell_type": "markdown",
      "source": [
        "# **データシステムの知能化とデザイン**"
      ],
      "metadata": {
        "id": "B80ac5KQWYdw"
      }
    },
    {
      "cell_type": "markdown",
      "source": [
        "#第１回演習課題\n",
        "##学籍番号　61920466 \n",
        "##大和達矢"
      ],
      "metadata": {
        "id": "E5WdN0Yb-abC"
      }
    },
    {
      "cell_type": "markdown",
      "source": [
        "##テキストの編集\n",
        "テキストの編集を確認。"
      ],
      "metadata": {
        "id": "11rnqmG73koi"
      }
    },
    {
      "cell_type": "markdown",
      "source": [
        "##章や節の設定及びアイテマイズ環境\n",
        "* 1\n",
        "* 2\n",
        "* 3\n"
      ],
      "metadata": {
        "id": "MpKq_ou0R1Fd"
      }
    },
    {
      "cell_type": "markdown",
      "source": [
        "##数式入力（テキスト内での数式）\n",
        "数式:\n",
        "$$(x+a)^n= \\sum^n_{k=0}\\left(\\begin{array}{c}n \\\\k \\\\\\end{array}\\right)x^ka ^{n -k}$$"
      ],
      "metadata": {
        "id": "No1Pd55W3x_Z"
      }
    },
    {
      "cell_type": "markdown",
      "source": [
        "##数式入力と演算結果の表示（pythonコードとしての数式と実行結果表示）##\n"
      ],
      "metadata": {
        "id": "gJ4SYNiC3-5n"
      }
    },
    {
      "cell_type": "code",
      "source": [
        "from matplotlib import pyplot as plt\n",
        "from math import pi,sin,cos\n",
        "def draw_graph(x,y,title,color):\n",
        "  plt.title(title)\n",
        "  plt.plot(x,y,color=color)\n",
        "  plt.show()\n",
        "def frange(start, final, increment=0.01):\n",
        "  numbers = []\n",
        "  while start< final :\n",
        "    numbers.append(start)\n",
        "    start= start+ increment\n",
        "  return numbers\n",
        "def draw_heart():\n",
        "  intervals= frange(0, 2 * pi)\n",
        "  x = []\n",
        "  y = []\n",
        "  for t in intervals:\n",
        "   x.append(16*sin(t)**3)\n",
        "   y.append(13*cos(t)-5*cos(2*t)-2*cos(3*t)-cos(4*t))\n",
        "  draw_graph(x,  y, title='Heart', color='#FF6597')\n",
        "if __name__== '__main__':\n",
        "  draw_heart()"
      ],
      "metadata": {
        "colab": {
          "base_uri": "https://localhost:8080/",
          "height": 281
        },
        "id": "j-26E-AXXujp",
        "outputId": "722683c2-2f87-4452-f9bb-0822f3a01522"
      },
      "execution_count": null,
      "outputs": [
        {
          "output_type": "display_data",
          "data": {
            "text/plain": [
              "<Figure size 432x288 with 1 Axes>"
            ],
            "image/png": "[encoded data removed]"
          },
          "metadata": {
            "needs_background": "light"
          }
        }
      ]
    },
    {
      "cell_type": "markdown",
      "source": [
        "##画像の貼り付け##\n",
        "<img src=\"https://nosy-ballcap-90c.notion.site/image/https%3A%2F%2Fs3-us-west-2.amazonaws.com%2Fsecure.notion-static.com%2F7b2de9a3-ab0f-4fda-b502-11cbda14e1be%2Fyamato_sheepliminal_spacecyberpunkglitch_8c728cff-cbaa-4143-976d-1accd43a433e.png?table=block&id=0f78a501-4ccf-4010-a08b-c51ab99d9963&spaceId=cf1ff3c6-4201-4bf6-b4cf-eeb476be0122&width=2000&userId=&cache=v2\" width=200>"
      ],
      "metadata": {
        "id": "t_1-sXGU6IsA"
      }
    }
  ]
}